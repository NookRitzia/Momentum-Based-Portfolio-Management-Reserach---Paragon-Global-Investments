{
 "cells": [
  {
   "cell_type": "code",
   "execution_count": null,
   "id": "56a76c16-b028-468f-a5f0-06e0d769596f",
   "metadata": {},
   "outputs": [],
   "source": []
  }
 ],
 "metadata": {
  "kernelspec": {
   "display_name": "",
   "name": ""
  },
  "language_info": {
   "name": ""
  }
 },
 "nbformat": 4,
 "nbformat_minor": 5
}
